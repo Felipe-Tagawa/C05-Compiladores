{
  "cells": [
    {
      "cell_type": "markdown",
      "metadata": {
        "id": "O9DmSUjNrK6k"
      },
      "source": [
        "Código que retorne se um match pode ser encontrado ao se procurar pela palavra \"sonhos\""
      ]
    },
    {
      "cell_type": "code",
      "execution_count": null,
      "metadata": {
        "colab": {
          "base_uri": "https://localhost:8080/"
        },
        "id": "BjB8wNvXq20L",
        "outputId": "3cfec325-547d-4deb-9118-6e4303ac93a8"
      },
      "outputs": [
        {
          "name": "stdout",
          "output_type": "stream",
          "text": [
            "Match encontrado\n"
          ]
        }
      ],
      "source": [
        "import re\n",
        "\n",
        "txt = \"Viver é acalentar sonhos e esperanças, fazendo da fé a nossa inspiração maior. É buscar nas pequenas coisas, um grande motivo para ser feliz\"\n",
        "\n",
        "valor = re.search(\"sonhos\", txt)\n",
        "\n",
        "if valor:\n",
        "    print(\"Match encontrado\")\n",
        "else:\n",
        "    print(\"Match não encontrado\")\n"
      ]
    },
    {
      "cell_type": "markdown",
      "metadata": {
        "id": "GARuNslrrzEG"
      },
      "source": [
        "Código que retorne uma lista apenas das palavras terminadas com \"as\""
      ]
    },
    {
      "cell_type": "code",
      "execution_count": null,
      "metadata": {
        "colab": {
          "base_uri": "https://localhost:8080/"
        },
        "id": "5DW-J3rnr9Fj",
        "outputId": "32ccbc70-eba2-43d9-d0ca-6e96bd13877b"
      },
      "outputs": [
        {
          "name": "stdout",
          "output_type": "stream",
          "text": [
            "esperanças\n",
            "nas\n",
            "pequenas\n",
            "coisas\n"
          ]
        }
      ],
      "source": [
        "for match in re.finditer(\"[a-zA-ZçÇ]*as\", txt):\n",
        "    print(match.group())\n"
      ]
    },
    {
      "cell_type": "markdown",
      "metadata": {
        "id": "Z9__-H_NuLex"
      },
      "source": [
        "Código que em um único RegEx, troque as palavras \"maior\" e \"grande\" pela palavra \"surreal\" e mostre a nova frase após as trocas"
      ]
    },
    {
      "cell_type": "code",
      "execution_count": null,
      "metadata": {
        "colab": {
          "base_uri": "https://localhost:8080/"
        },
        "id": "pK_UsYDouXjd",
        "outputId": "1cd6660c-9f7d-40b7-b339-5e8b5dea6104"
      },
      "outputs": [
        {
          "name": "stdout",
          "output_type": "stream",
          "text": [
            "Viver é acalentar sonhos e esperanças, fazendo da fé a nossa inspiração surreal. E buscar nas pequenas coisas, um surreal motivo para ser feliz\n"
          ]
        }
      ],
      "source": [
        "print(re.sub(\"maior|grande\", \"surreal\", txt))"
      ]
    },
    {
      "cell_type": "markdown",
      "metadata": {
        "id": "TZ2U--ifu1RN"
      },
      "source": [
        "Código que retorna a posição inicial e final da palavra \"inspiração\" dentro do texto"
      ]
    },
    {
      "cell_type": "code",
      "execution_count": null,
      "metadata": {
        "colab": {
          "base_uri": "https://localhost:8080/"
        },
        "id": "-D9m5OKHvE1D",
        "outputId": "6f691a13-87a1-4faa-b971-63e1a59c6327"
      },
      "outputs": [
        {
          "name": "stdout",
          "output_type": "stream",
          "text": [
            "(61, 71)\n"
          ]
        }
      ],
      "source": [
        "for match in re.finditer(\"inspiração\", txt):\n",
        "    print(match.span())"
      ]
    },
    {
      "cell_type": "markdown",
      "metadata": {
        "id": "uJExhnU4wHeL"
      },
      "source": [
        "Código que retorna uma lista apenas com as palavras que possuam 9 letras ou mais"
      ]
    },
    {
      "cell_type": "code",
      "execution_count": null,
      "metadata": {
        "colab": {
          "base_uri": "https://localhost:8080/"
        },
        "id": "xzP_vDp2wM0I",
        "outputId": "5af5150e-ef68-430d-fc73-d75ccc46dc4a"
      },
      "outputs": [
        {
          "name": "stdout",
          "output_type": "stream",
          "text": [
            "acalentar\n",
            "esperança\n"
          ]
        }
      ],
      "source": [
        "for match in re.finditer(\"[a-zA-ZÇç]{9,}+\", txt):\n",
        "  print(match.group())"
      ]
    },
    {
      "cell_type": "markdown",
      "metadata": {
        "id": "jBfwqQ6DwtvR"
      },
      "source": [
        "Código que retorna uma lista de Strings que deverão ser quebradas toda vez que for encontrado no texto o caracter . (ponto) ou , (vírgula)"
      ]
    },
    {
      "cell_type": "code",
      "execution_count": null,
      "metadata": {
        "colab": {
          "base_uri": "https://localhost:8080/"
        },
        "id": "3-QUxDz7xb5o",
        "outputId": "6f76cc53-c1ef-4a7e-bd40-96a443d8f4a9"
      },
      "outputs": [
        {
          "name": "stdout",
          "output_type": "stream",
          "text": [
            "['Viver é acalentar sonhos e esperanças', ' fazendo da fé a nossa inspiração maior', ' E buscar nas pequenas coisas', ' um grande motivo para ser feliz']\n"
          ]
        }
      ],
      "source": [
        "print(re.split(\"[.]|,\", txt))"
      ]
    },
    {
      "cell_type": "markdown",
      "metadata": {
        "id": "oNYgmD0VyBXB"
      },
      "source": [
        "Código que retorne todas as palavras que possuam a letra \"é\" (com acento) seja em maiúscula ou minúscula"
      ]
    },
    {
      "cell_type": "code",
      "execution_count": null,
      "metadata": {
        "colab": {
          "base_uri": "https://localhost:8080/"
        },
        "id": "LlVbbBfeyLh4",
        "outputId": "5be07563-d2f8-4b87-dc7e-9f1257380bd6"
      },
      "outputs": [
        {
          "name": "stdout",
          "output_type": "stream",
          "text": [
            "é\n",
            "fé\n",
            "É\n"
          ]
        }
      ],
      "source": [
        "for match in re.finditer(\"[A-Za-zÇç]*[Éé][A-Za-zÇç]*\", txt):\n",
        "    print(match.group())"
      ]
    },
    {
      "cell_type": "markdown",
      "metadata": {
        "id": "mrcLy0JWziy2"
      },
      "source": [
        "Código que responda quantas palavras o texto base possui"
      ]
    },
    {
      "cell_type": "code",
      "execution_count": null,
      "metadata": {
        "colab": {
          "base_uri": "https://localhost:8080/"
        },
        "id": "DEsibEF4zqhk",
        "outputId": "21171886-da70-4e62-8b15-2da82ab97a61"
      },
      "outputs": [
        {
          "name": "stdout",
          "output_type": "stream",
          "text": [
            "24\n"
          ]
        }
      ],
      "source": [
        "print(len(re.split(\" \", txt)))"
      ]
    }
  ],
  "metadata": {
    "colab": {
      "provenance": []
    },
    "kernelspec": {
      "display_name": "Python 3",
      "name": "python3"
    },
    "language_info": {
      "name": "python"
    }
  },
  "nbformat": 4,
  "nbformat_minor": 0
}
