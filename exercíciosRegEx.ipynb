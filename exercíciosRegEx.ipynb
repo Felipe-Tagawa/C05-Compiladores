{
  "nbformat": 4,
  "nbformat_minor": 0,
  "metadata": {
    "colab": {
      "provenance": []
    },
    "kernelspec": {
      "name": "python3",
      "display_name": "Python 3"
    },
    "language_info": {
      "name": "python"
    }
  },
  "cells": [
    {
      "cell_type": "markdown",
      "source": [
        "Código que retorne se um match pode ser encontrado ao se procurar pela palavra \"sonhos\""
      ],
      "metadata": {
        "id": "O9DmSUjNrK6k"
      }
    },
    {
      "cell_type": "code",
      "execution_count": null,
      "metadata": {
        "colab": {
          "base_uri": "https://localhost:8080/"
        },
        "id": "BjB8wNvXq20L",
        "outputId": "3cfec325-547d-4deb-9118-6e4303ac93a8"
      },
      "outputs": [
        {
          "output_type": "stream",
          "name": "stdout",
          "text": [
            "Match encontrado\n"
          ]
        }
      ],
      "source": [
        "import re\n",
        "\n",
        "txt = \"Viver é acalentar sonhos e esperanças, fazendo da fé a nossa inspiração maior. É buscar nas pequenas coisas, um grande motivo para ser feliz\"\n",
        "\n",
        "valor = re.search(\"sonhos\", txt)\n",
        "\n",
        "if valor:\n",
        "    print(\"Match encontrado\")\n",
        "else:\n",
        "    print(\"Match não encontrado\")\n"
      ]
    },
    {
      "cell_type": "markdown",
      "source": [
        "Código que retorne uma lista apenas das palavras terminadas com \"as\""
      ],
      "metadata": {
        "id": "GARuNslrrzEG"
      }
    },
    {
      "cell_type": "code",
      "source": [
        "for match in re.finditer(\"[a-zA-ZçÇ]*as\", txt):\n",
        "    print(match.group())\n"
      ],
      "metadata": {
        "colab": {
          "base_uri": "https://localhost:8080/"
        },
        "id": "5DW-J3rnr9Fj",
        "outputId": "32ccbc70-eba2-43d9-d0ca-6e96bd13877b"
      },
      "execution_count": null,
      "outputs": [
        {
          "output_type": "stream",
          "name": "stdout",
          "text": [
            "esperanças\n",
            "nas\n",
            "pequenas\n",
            "coisas\n"
          ]
        }
      ]
    },
    {
      "cell_type": "markdown",
      "source": [
        "Código que em um único RegEx, troque as palavras \"maior\" e \"grande\" pela palavra \"surreal\" e mostre a nova frase após as trocas"
      ],
      "metadata": {
        "id": "Z9__-H_NuLex"
      }
    },
    {
      "cell_type": "code",
      "source": [
        "print(re.sub(\"maior|grande\", \"surreal\", txt))"
      ],
      "metadata": {
        "colab": {
          "base_uri": "https://localhost:8080/"
        },
        "id": "pK_UsYDouXjd",
        "outputId": "1cd6660c-9f7d-40b7-b339-5e8b5dea6104"
      },
      "execution_count": null,
      "outputs": [
        {
          "output_type": "stream",
          "name": "stdout",
          "text": [
            "Viver é acalentar sonhos e esperanças, fazendo da fé a nossa inspiração surreal. E buscar nas pequenas coisas, um surreal motivo para ser feliz\n"
          ]
        }
      ]
    },
    {
      "cell_type": "markdown",
      "source": [
        "Código que retorna a posição inicial e final da palavra \"inspiração\" dentro do texto"
      ],
      "metadata": {
        "id": "TZ2U--ifu1RN"
      }
    },
    {
      "cell_type": "code",
      "source": [
        "for match in re.finditer(\"inspiração\", txt):\n",
        "    print(match.span())"
      ],
      "metadata": {
        "colab": {
          "base_uri": "https://localhost:8080/"
        },
        "id": "-D9m5OKHvE1D",
        "outputId": "6f691a13-87a1-4faa-b971-63e1a59c6327"
      },
      "execution_count": null,
      "outputs": [
        {
          "output_type": "stream",
          "name": "stdout",
          "text": [
            "(61, 71)\n"
          ]
        }
      ]
    },
    {
      "cell_type": "markdown",
      "source": [
        "Código que retorna uma lista apenas com as palavras que possuam 9 letras ou mais"
      ],
      "metadata": {
        "id": "uJExhnU4wHeL"
      }
    },
    {
      "cell_type": "code",
      "source": [
        "for match in re.finditer(\"[a-zA-ZÇç]{9}+\", txt):\n",
        "  print(match.group())"
      ],
      "metadata": {
        "colab": {
          "base_uri": "https://localhost:8080/"
        },
        "id": "xzP_vDp2wM0I",
        "outputId": "5af5150e-ef68-430d-fc73-d75ccc46dc4a"
      },
      "execution_count": null,
      "outputs": [
        {
          "output_type": "stream",
          "name": "stdout",
          "text": [
            "acalentar\n",
            "esperança\n"
          ]
        }
      ]
    },
    {
      "cell_type": "markdown",
      "source": [
        "Código que retorna uma lista de Strings que deverão ser quebradas toda vez que for encontrado no texto o caracter . (ponto) ou , (vírgula)"
      ],
      "metadata": {
        "id": "jBfwqQ6DwtvR"
      }
    },
    {
      "cell_type": "code",
      "source": [
        "print(re.split(\"[.]|,\", txt))"
      ],
      "metadata": {
        "colab": {
          "base_uri": "https://localhost:8080/"
        },
        "id": "3-QUxDz7xb5o",
        "outputId": "6f76cc53-c1ef-4a7e-bd40-96a443d8f4a9"
      },
      "execution_count": null,
      "outputs": [
        {
          "output_type": "stream",
          "name": "stdout",
          "text": [
            "['Viver é acalentar sonhos e esperanças', ' fazendo da fé a nossa inspiração maior', ' E buscar nas pequenas coisas', ' um grande motivo para ser feliz']\n"
          ]
        }
      ]
    },
    {
      "cell_type": "markdown",
      "source": [
        "Código que retorne todas as palavras que possuam a letra \"é\" (com acento) seja em maiúscula ou minúscula"
      ],
      "metadata": {
        "id": "oNYgmD0VyBXB"
      }
    },
    {
      "cell_type": "code",
      "source": [
        "for match in re.finditer(\"[A-Za-zÇç]*[Éé][A-Za-zÇç]*\", txt):\n",
        "    print(match.group())"
      ],
      "metadata": {
        "colab": {
          "base_uri": "https://localhost:8080/"
        },
        "id": "LlVbbBfeyLh4",
        "outputId": "5be07563-d2f8-4b87-dc7e-9f1257380bd6"
      },
      "execution_count": null,
      "outputs": [
        {
          "output_type": "stream",
          "name": "stdout",
          "text": [
            "é\n",
            "fé\n",
            "É\n"
          ]
        }
      ]
    },
    {
      "cell_type": "markdown",
      "source": [
        "Código que responda quantas palavras o texto base possui"
      ],
      "metadata": {
        "id": "mrcLy0JWziy2"
      }
    },
    {
      "cell_type": "code",
      "source": [
        "print(len(re.split(\" \", txt)))"
      ],
      "metadata": {
        "colab": {
          "base_uri": "https://localhost:8080/"
        },
        "id": "DEsibEF4zqhk",
        "outputId": "21171886-da70-4e62-8b15-2da82ab97a61"
      },
      "execution_count": null,
      "outputs": [
        {
          "output_type": "stream",
          "name": "stdout",
          "text": [
            "24\n"
          ]
        }
      ]
    }
  ]
}